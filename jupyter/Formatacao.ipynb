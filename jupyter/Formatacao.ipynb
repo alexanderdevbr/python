{
 "cells": [
  {
   "cell_type": "markdown",
   "id": "e8af9903-6bd5-4f46-8b09-fa07005c5cec",
   "metadata": {},
   "source": [
    "# Demonstração de formatação de valores"
   ]
  },
  {
   "cell_type": "code",
   "execution_count": 1,
   "id": "fb737ca7-8cb4-4aac-aa5e-6dacf4498a18",
   "metadata": {},
   "outputs": [
    {
     "name": "stdout",
     "output_type": "stream",
     "text": [
      "Valor 12.35\n",
      "Valor 12.35\n",
      "Valor de Pi é aproximadamente 3.14 (3.14159265)\n"
     ]
    }
   ],
   "source": [
    "import math\n",
    "\n",
    "valor = 12.3456\n",
    "\n",
    "print('Valor {:.2f}'.format(valor))\n",
    "print(f'Valor {valor:.2f}')\n",
    "\n",
    "print('Valor de Pi é aproximadamente %.2f (%.8f)' % (math.pi, math.pi) )"
   ]
  }
 ],
 "metadata": {
  "kernelspec": {
   "display_name": "Python 3 (ipykernel)",
   "language": "python",
   "name": "python3"
  },
  "language_info": {
   "codemirror_mode": {
    "name": "ipython",
    "version": 3
   },
   "file_extension": ".py",
   "mimetype": "text/x-python",
   "name": "python",
   "nbconvert_exporter": "python",
   "pygments_lexer": "ipython3",
   "version": "3.10.12"
  }
 },
 "nbformat": 4,
 "nbformat_minor": 5
}
