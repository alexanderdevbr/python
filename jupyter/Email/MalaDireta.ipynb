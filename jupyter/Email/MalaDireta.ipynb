{
 "cells": [
  {
   "cell_type": "code",
   "execution_count": 2,
   "id": "f6b2df3b",
   "metadata": {},
   "outputs": [
    {
     "name": "stdout",
     "output_type": "stream",
     "text": [
      "Requirement already satisfied: pywin32 in c:\\users\\alexa\\anaconda3\\lib\\site-packages (228)Note: you may need to restart the kernel to use updated packages.\n",
      "\n"
     ]
    }
   ],
   "source": [
    "pip install pywin32"
   ]
  },
  {
   "cell_type": "code",
   "execution_count": 3,
   "id": "1ba9832b",
   "metadata": {},
   "outputs": [
    {
     "name": "stdout",
     "output_type": "stream",
     "text": [
      "Email enviado para  Alexander Moreira de Morais, email -> alex.moreira@gmail.com\n",
      "Email enviado para  Alexander MK3 de Morais, email -> alex.mk3spl@gmail.com\n",
      "Email enviado para  Alexander Dev de Morais, email -> alexander.dev.br@gmail.com\n",
      "Email enviado para  Alexander PBAs, email -> alexander_pba@hotmail.com\n",
      "Email enviado para  Jessica Delicinha, email -> jehsf1@gmail.com\n",
      "Email enviado para  Jessica Manhosa, email -> jessica_nbn@hotmail.com\n",
      "Email enviado para  Jessica Braba, email -> jessica.figueiredo@mj.gov.br\n",
      "Email enviado para  Alexander Safado, email -> alexander.morais@trf1.jus.br\n",
      "Fim do envio de emails!\n"
     ]
    }
   ],
   "source": [
    "import win32com.client as win32\n",
    "import csv\n",
    "import time\n",
    "\n",
    "with open(\"c:/tmp/emails.csv\", \"r\") as arquivo:\n",
    "    arquivo_csv = csv.reader(arquivo, delimiter=\",\")\n",
    "    for i, lista in enumerate(arquivo_csv):\n",
    "        destinatario = lista[0]\n",
    "        nome = lista[1]\n",
    "        \n",
    "        outlook = win32.Dispatch('outlook.application')    \n",
    "        email = outlook.CreateItem(0)\n",
    "\n",
    "        email.SentOnBehalfOfName = \"sesol@trf1.jus.br\"\n",
    "        email.To = destinatario\n",
    "        email.BCC = \"alexander.morais@trf1.jus.br\"\n",
    "        email.Subject = \"Teste envio email Python demonstração Jessica - \" + str(i)\n",
    "        email.HTMLBody = \"Prezado \"+ nome +\", esse é o corpo do email, texto bla bla bla...\"\n",
    "\n",
    "        #email.Send()\n",
    "        print(\"Email enviado para \" + nome + \", email -> \" + destinatario)\n",
    "        time.sleep(2)\n",
    "        \n",
    "    print(\"Fim do envio de emails!\")\n",
    "\n",
    "\n",
    "\n",
    "\n",
    "\n"
   ]
  },
  {
   "cell_type": "code",
   "execution_count": 2,
   "id": "4d0ad506",
   "metadata": {},
   "outputs": [
    {
     "name": "stdout",
     "output_type": "stream",
     "text": [
      "Alex\n",
      "Jessica\n",
      "Bob\n",
      "Teste\n",
      "5\n"
     ]
    }
   ],
   "source": [
    "lista = [\"Alex\", \"Jessica\", \"Bob\", \"Teste\"]\n",
    "\n",
    "soma = 1\n",
    "for i in lista:\n",
    "    print(i)\n",
    "    soma = soma  + 1\n",
    "\n",
    "print(soma)"
   ]
  },
  {
   "cell_type": "code",
   "execution_count": null,
   "id": "2b4cd95c",
   "metadata": {},
   "outputs": [],
   "source": []
  }
 ],
 "metadata": {
  "kernelspec": {
   "display_name": "Python 3.10.6 64-bit",
   "language": "python",
   "name": "python3"
  },
  "language_info": {
   "codemirror_mode": {
    "name": "ipython",
    "version": 3
   },
   "file_extension": ".py",
   "mimetype": "text/x-python",
   "name": "python",
   "nbconvert_exporter": "python",
   "pygments_lexer": "ipython3",
   "version": "3.10.6"
  },
  "vscode": {
   "interpreter": {
    "hash": "bbc3c3d932324566a9bf4b4a52ddf64063695fc3adbf25b3fda92572428493bb"
   }
  }
 },
 "nbformat": 4,
 "nbformat_minor": 5
}
